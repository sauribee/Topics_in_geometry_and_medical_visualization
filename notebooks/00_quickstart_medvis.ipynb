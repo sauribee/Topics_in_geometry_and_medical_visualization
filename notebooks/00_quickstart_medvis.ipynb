{
 "cells": [
  {
   "cell_type": "markdown",
   "id": "0",
   "metadata": {},
   "source": [
    "# 00 — Quickstart MedVis\n",
    "\n",
    "This notebook demonstrates:\n",
    "1. Reading a DICOM series into a 3D volume (SimpleITK)\n",
    "2. Inspecting orthogonal slices (axial/coronal/sagittal)\n",
    "3. Extracting an isosurface with marching cubes and saving a mesh (PLY)\n",
    "\n",
    "**Prerequisites**: Install the project in editable mode: `pip install -e .`\n",
    "and ensure runtime deps are available (SimpleITK, pyvista, scikit-image, nibabel)."
   ]
  },
  {
   "cell_type": "code",
   "execution_count": null,
   "id": "1",
   "metadata": {},
   "outputs": [],
   "source": [
    "import os\n",
    "import numpy as np\n",
    "import matplotlib.pyplot as plt\n",
    "import SimpleITK as sitk\n",
    "import pyvista as pv\n",
    "from skimage.measure import marching_cubes\n",
    "\n",
    "# Project helpers (installed package)\n",
    "from medvis.io.dicom_series import read_series_to_volume, get_spacing_xyz\n",
    "\n",
    "# Configure paths\n",
    "DICOM_DIR = r\"data/raw/dicom/assignment_4\"  # <-- change to your actual series folder\n",
    "OUT_DIR = r\"reports/figures/quickstart\"\n",
    "os.makedirs(OUT_DIR, exist_ok=True)\n",
    "print(\"DICOM_DIR =\", DICOM_DIR)\n",
    "print(\"OUT_DIR   =\", OUT_DIR)"
   ]
  },
  {
   "cell_type": "code",
   "execution_count": null,
   "id": "2",
   "metadata": {},
   "outputs": [],
   "source": [
    "img = read_series_to_volume(DICOM_DIR)\n",
    "sx, sy, sz = get_spacing_xyz(img)\n",
    "print(\"Spacing (mm):\", (sx, sy, sz))\n",
    "\n",
    "vol = sitk.GetArrayFromImage(img)  # (z, y, x)\n",
    "print(\"Volume shape (z,y,x):\", vol.shape)"
   ]
  },
  {
   "cell_type": "code",
   "execution_count": null,
   "id": "3",
   "metadata": {},
   "outputs": [],
   "source": [
    "z, y, x = vol.shape\n",
    "axial = vol[z // 2, :, :]\n",
    "coronal = vol[:, y // 2, :]\n",
    "sagital = vol[:, :, x // 2]\n",
    "\n",
    "fig, axs = plt.subplots(1, 3, figsize=(12, 4))\n",
    "\n",
    "axs[0].imshow(axial, cmap=\"gray\")\n",
    "axs[0].set_title(\"Axial\")\n",
    "\n",
    "axs[1].imshow(coronal, cmap=\"gray\")\n",
    "axs[1].set_title(\"Coronal\")\n",
    "\n",
    "axs[2].imshow(sagital, cmap=\"gray\")  # si tu variable se llama 'sagital', usa ese nombre\n",
    "axs[2].set_title(\"Sagittal\")\n",
    "\n",
    "for ax in axs:\n",
    "    ax.axis(\"off\")\n",
    "\n",
    "plt.tight_layout()\n",
    "plt.show()"
   ]
  },
  {
   "cell_type": "code",
   "execution_count": null,
   "id": "4",
   "metadata": {},
   "outputs": [],
   "source": [
    "# Choose level heuristically; bones in CT often around 300+ HU (adjust as needed)\n",
    "level = 300.0\n",
    "verts, faces, _, _ = marching_cubes(vol, level=level)\n",
    "faces_pv = np.hstack([np.full((faces.shape[0], 1), 3), faces]).astype(np.int64)\n",
    "mesh = pv.PolyData(verts[:, ::-1], faces_pv)  # (x,y,z)\n",
    "\n",
    "ply_path = os.path.join(OUT_DIR, \"isosurface.ply\")\n",
    "mesh.save(ply_path)\n",
    "print(\"Saved:\", ply_path, \" | points:\", mesh.n_points, \"faces:\", mesh.n_faces)"
   ]
  },
  {
   "cell_type": "code",
   "execution_count": null,
   "id": "5",
   "metadata": {},
   "outputs": [],
   "source": [
    "p = pv.Plotter(off_screen=True)\n",
    "p.add_mesh(mesh, show_edges=False)\n",
    "p.add_axes()\n",
    "p.show_bounds(grid=\"back\", location=\"outer\", ticks=\"outside\")\n",
    "png_path = os.path.join(OUT_DIR, \"isosurface_preview.png\")\n",
    "p.show(screenshot=png_path)\n",
    "print(\"Saved preview:\", png_path)"
   ]
  }
 ],
 "metadata": {
  "language_info": {
   "name": "python"
  }
 },
 "nbformat": 4,
 "nbformat_minor": 5
}
